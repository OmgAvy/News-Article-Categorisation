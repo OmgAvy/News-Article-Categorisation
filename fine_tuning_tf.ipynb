{
  "cells": [
    {
      "cell_type": "code",
      "execution_count": null,
      "metadata": {
        "id": "ytEm8PhviQvR"
      },
      "outputs": [],
      "source": [
        "# ============== requirements =============\n",
        "import tensorflow as tf\n",
        "import pandas as pd\n",
        "import numpy as np\n",
        "\n",
        "from transformers import BertTokenizer, TFBertForSequenceClassification, AdamW\n",
        "\n",
        "if tf.config.list_physical_devices('GPU'):\n",
        "    device = 'gpu'\n",
        "else:\n",
        "    device = 'cpu'"
      ]
    },
    {
      "cell_type": "code",
      "execution_count": null,
      "metadata": {
        "id": "mYvVuqP_iaMK"
      },
      "outputs": [],
      "source": [
        "#@title Default title text\n",
        "train_data = pd.read_csv(r\"/content/drive/MyDrive/Colab Notebooks/data/train.csv\")\n",
        "test_data = pd.read_csv(r\"/content/drive/MyDrive/Colab Notebooks/data/test.csv\")\n",
        "\n",
        "test_data.rename(columns={\n",
        "    'Class Index':'label',\n",
        "    'Title':'title',\n",
        "    'Description':'text',\n",
        "}, inplace=True)\n",
        "\n",
        "train_data.rename(columns={\n",
        "    'Class Index':'label',\n",
        "     'Title':'title',\n",
        "      'Description':'text',\n",
        "}, inplace=True)\n",
        "\n",
        "train_data.drop(axis=1, columns='title', inplace=True)\n",
        "test_data.drop(axis=1, columns='title', inplace=True)\n",
        "\n",
        "train_data = train_data.sample(frac=0.05, random_state=0)\n",
        "test_data = test_data.sample(frac=0.05, random_state=0)\n",
        "\n",
        "train_data['label'].replace({1:0, 2:1, 3:2, 4: 3}, inplace=True)\n",
        "test_data['label'].replace({1:0, 2:1, 3:2, 4: 3}, inplace=True)\n",
        "\n",
        "x_train = train_data['text'].tolist()\n",
        "y_train = train_data['label'].tolist()\n",
        "\n",
        "x_test = test_data['text'].tolist()\n",
        "y_test = test_data['label'].tolist()\n",
        "\n",
        "train_data['label'].value_counts()"
      ]
    },
    {
      "cell_type": "code",
      "execution_count": null,
      "metadata": {
        "id": "TfOIMyxJivzq"
      },
      "outputs": [],
      "source": [
        "# Define the model name and number of labels\n",
        "num_labels = 4\n",
        "\n",
        "# Load the pre-trained BERT model\n",
        "model = TFBertForSequenceClassification.from_pretrained('bert-base-uncased', num_labels=num_labels)\n",
        "\n",
        "# Load tokenizer\n",
        "tokenizer = BertTokenizer.from_pretrained('bert-base-cased')\n",
        "\n",
        "train_encodings = tokenizer(x_train, truncation=True, padding=True, return_tensors='tf')\n",
        "val_encodings = tokenizer(x_test, truncation=True, padding=True, return_tensors='tf')\n",
        "\n",
        "# one hot encoding\n",
        "train_labels = tf.keras.utils.to_categorical(y_train, num_classes=num_labels)\n",
        "val_labels = tf.keras.utils.to_categorical(y_test, num_classes=num_labels)"
      ]
    },
    {
      "cell_type": "code",
      "execution_count": null,
      "metadata": {
        "id": "2cxbqhG6i7XJ"
      },
      "outputs": [],
      "source": [
        "train_dataset = tf.data.Dataset.from_tensor_slices((dict(train_encodings), train_labels))\n",
        "val_dataset = tf.data.Dataset.from_tensor_slices((dict(val_encodings), val_labels))\n"
      ]
    },
    {
      "cell_type": "code",
      "execution_count": null,
      "metadata": {
        "id": "Q2D9gWzEi7Uh"
      },
      "outputs": [],
      "source": [
        "# Compile the model\n",
        "optimizer = tf.keras.optimizers.Adam(learning_rate=2e-5)\n",
        "loss = tf.keras.losses.CategoricalCrossentropy(from_logits=True)\n",
        "metric = tf.keras.metrics.CategoricalAccuracy('accuracy')\n",
        "\n",
        "model.compile(optimizer=optimizer, loss=loss, metrics=[metric])"
      ]
    },
    {
      "cell_type": "code",
      "execution_count": null,
      "metadata": {
        "colab": {
          "base_uri": "https://localhost:8080/"
        },
        "id": "P-txkF4pi7Rp",
        "outputId": "dfc74285-af64-427e-aabe-fd38aaf1fbac"
      },
      "outputs": [
        {
          "name": "stdout",
          "output_type": "stream",
          "text": [
            "Epoch 1/3\n",
            "375/375 [==============================] - 536s 1s/step - loss: 1.2124 - accuracy: 0.4428 - val_loss: 0.9014 - val_accuracy: 0.6474\n",
            "Epoch 2/3\n",
            "375/375 [==============================] - 480s 1s/step - loss: 0.6353 - accuracy: 0.7652 - val_loss: 0.7157 - val_accuracy: 0.7289\n",
            "Epoch 3/3\n",
            "375/375 [==============================] - 479s 1s/step - loss: 0.3572 - accuracy: 0.8778 - val_loss: 0.6672 - val_accuracy: 0.7632\n"
          ]
        }
      ],
      "source": [
        "history = model.fit(train_dataset.shuffle(len(train_labels)).batch(16),\n",
        "                    epochs=3,\n",
        "                    batch_size=16,\n",
        "                    validation_data=val_dataset.shuffle(len(val_labels)).batch(16))"
      ]
    },
    {
      "cell_type": "code",
      "execution_count": null,
      "metadata": {
        "colab": {
          "base_uri": "https://localhost:8080/"
        },
        "id": "roOLZoNRi7OC",
        "outputId": "09d23ca6-34de-4648-cabf-9e95b9470030"
      },
      "outputs": [
        {
          "name": "stdout",
          "output_type": "stream",
          "text": [
            "24/24 [==============================] - 6s 234ms/step - loss: 0.6672 - accuracy: 0.7632\n"
          ]
        },
        {
          "data": {
            "text/plain": [
              "[0.6672008037567139, 0.7631579041481018]"
            ]
          },
          "execution_count": 8,
          "metadata": {},
          "output_type": "execute_result"
        }
      ],
      "source": [
        "model.evaluate(val_dataset.batch(16))\n"
      ]
    },
    {
      "cell_type": "code",
      "execution_count": null,
      "metadata": {
        "colab": {
          "base_uri": "https://localhost:8080/"
        },
        "id": "9NlElyeLzWR8",
        "outputId": "4a428620-9d7c-41d2-ccbf-47b755d2b59f"
      },
      "outputs": [
        {
          "data": {
            "text/plain": [
              "('tf_bert_classifier/tokenizer_config.json',\n",
              " 'tf_bert_classifier/special_tokens_map.json',\n",
              " 'tf_bert_classifier/vocab.txt',\n",
              " 'tf_bert_classifier/added_tokens.json')"
            ]
          },
          "execution_count": 9,
          "metadata": {},
          "output_type": "execute_result"
        }
      ],
      "source": [
        "model.save_pretrained('tf_bert_classifier')\n",
        "tokenizer.save_pretrained('tf_bert_classifier')\n"
      ]
    },
    {
      "cell_type": "code",
      "execution_count": null,
      "metadata": {
        "colab": {
          "base_uri": "https://localhost:8080/"
        },
        "id": "MhUMYZxtE8P1",
        "outputId": "b9212964-8e4a-49a7-efe1-ba1c01203e53"
      },
      "outputs": [
        {
          "name": "stderr",
          "output_type": "stream",
          "text": [
            "All model checkpoint layers were used when initializing TFBertForSequenceClassification.\n",
            "\n",
            "All the layers of TFBertForSequenceClassification were initialized from the model checkpoint at /content/drive/MyDrive/Colab Notebooks/tf_bert_classifier.\n",
            "If your task is similar to the task the model of the checkpoint was trained on, you can already use TFBertForSequenceClassification for predictions without further training.\n"
          ]
        }
      ],
      "source": [
        "modelT = TFBertForSequenceClassification.from_pretrained(r\"/content/drive/MyDrive/Colab Notebooks/tf_bert_classifier\")\n",
        "tokenizerT = BertTokenizer.from_pretrained(r\"/content/drive/MyDrive/Colab Notebooks/tf_bert_classifier\")"
      ]
    },
    {
      "cell_type": "code",
      "execution_count": null,
      "metadata": {
        "id": "RCWNayQe0HOp"
      },
      "outputs": [],
      "source": [
        "new_text = '''\n",
        "Moments into her opening bout at the 2023 IBA Women’s World Championships, Lovlina Borgohain charged at her opponent, Mexico’s Vanessa Ortiz, and landed a big right hook to the face. That was, perhaps, the one and only effective aggressive move she executed, managing the rest of the 5-0 unanimous win by staying on the defensive.\n",
        "\n",
        "This time last year, Lovlina found out that the 70kg category in which she won the bronze medal at the Tokyo Olympics is scrapped for Paris 2024. She chose to gain weight to go up to the 75kg category, as opposed to cutting weight to make it to 66kg. The choice, given her tall frame, made sense, and the ease with which she got past Ortiz to reach the quarterfinals, without too many aggressive moves, is vindication of that choice.\n",
        "\n",
        "'''\n",
        "\n",
        "new_encodings = tokenizerT.encode(new_text,\n",
        "                           truncation=True,\n",
        "                           padding=True)\n",
        "\n",
        "\n"
      ]
    },
    {
      "cell_type": "code",
      "execution_count": null,
      "metadata": {
        "colab": {
          "base_uri": "https://localhost:8080/"
        },
        "id": "QMSYnO-mHQOd",
        "outputId": "12e4c92d-9a63-481e-bdda-d6a82af86683"
      },
      "outputs": [
        {
          "data": {
            "text/plain": [
              "180"
            ]
          },
          "execution_count": 13,
          "metadata": {},
          "output_type": "execute_result"
        }
      ],
      "source": [
        "len(new_encodings) "
      ]
    },
    {
      "cell_type": "code",
      "execution_count": null,
      "metadata": {
        "colab": {
          "base_uri": "https://localhost:8080/"
        },
        "id": "gc4OzYYw0eiT",
        "outputId": "ef31ebed-fc90-4529-850b-f2ca51e6f1ef"
      },
      "outputs": [
        {
          "name": "stdout",
          "output_type": "stream",
          "text": [
            "1/1 [==============================] - 0s 126ms/step\n"
          ]
        },
        {
          "data": {
            "text/plain": [
              "2"
            ]
          },
          "execution_count": 19,
          "metadata": {},
          "output_type": "execute_result"
        }
      ],
      "source": [
        "new_predictions = modelT.predict([new_encodings])\n",
        "\n",
        "new_label = tf.argmax(new_predictions.logits, axis=-1)\n",
        "new_label.numpy()[0]"
      ]
    },
    {
      "cell_type": "code",
      "execution_count": null,
      "metadata": {
        "id": "t_6yQqalxAc5"
      },
      "outputs": [],
      "source": []
    },
    {
      "cell_type": "code",
      "execution_count": null,
      "metadata": {
        "colab": {
          "base_uri": "https://localhost:8080/",
          "height": 591
        },
        "id": "mM9PqtBDQRj0",
        "outputId": "e73a6d37-5aee-42e9-fb65-f15a74793e97"
      },
      "outputs": [
        {
          "name": "stdout",
          "output_type": "stream",
          "text": [
            "Colab notebook detected. To show errors in colab notebook, set debug=True in launch()\n",
            "Running on public URL: https://21c8270eca2ba2f708.gradio.live\n",
            "\n",
            "This share link expires in 72 hours. For free permanent hosting and GPU upgrades (NEW!), check out Spaces: https://huggingface.co/spaces\n"
          ]
        },
        {
          "data": {
            "text/html": [
              "<div><iframe src=\"https://21c8270eca2ba2f708.gradio.live\" width=\"100%\" height=\"500\" allow=\"autoplay; camera; microphone; clipboard-read; clipboard-write;\" frameborder=\"0\" allowfullscreen></iframe></div>"
            ],
            "text/plain": [
              "<IPython.core.display.HTML object>"
            ]
          },
          "metadata": {},
          "output_type": "display_data"
        },
        {
          "data": {
            "text/plain": []
          },
          "execution_count": 7,
          "metadata": {},
          "output_type": "execute_result"
        }
      ],
      "source": [
        "import gradio as gr\n",
        "\n",
        "# Define the function that takes two numbers as input and returns their sum\n",
        "def add_numbers(num1, num2):\n",
        "    return num1 + num2\n",
        "\n",
        "# Create a Gradio interface for the add_numbers function\n",
        "iface = gr.Interface(fn=add_numbers, \n",
        "                     inputs=[\"number\", \"number\"], \n",
        "                     outputs=\"number\",\n",
        "                     title=\"Add Two Numbers\",\n",
        "                     description=\"This app adds two numbers.\")\n",
        "\n",
        "# Launch the interface\n",
        "iface.launch(share=True)\n"
      ]
    }
  ],
  "metadata": {
    "accelerator": "GPU",
    "colab": {
      "provenance": []
    },
    "gpuClass": "standard",
    "kernelspec": {
      "display_name": "Python 3",
      "name": "python3"
    },
    "language_info": {
      "name": "python"
    }
  },
  "nbformat": 4,
  "nbformat_minor": 0
}
