{
 "cells": [
  {
   "attachments": {},
   "cell_type": "markdown",
   "metadata": {},
   "source": [
    "### Requirements"
   ]
  },
  {
   "cell_type": "code",
   "execution_count": 1,
   "metadata": {},
   "outputs": [],
   "source": [
    "import torch\n",
    "import pandas as pd\n",
    "import numpy as np\n",
    "\n",
    "from transformers import BertTokenizer, BertForSequenceClassification, AdamW\n",
    "from torch.utils.data import  TensorDataset, DataLoader\n",
    "\n",
    "device = torch.device('cuda' if torch.cuda.is_available() else 'cpu')\n"
   ]
  },
  {
   "attachments": {},
   "cell_type": "markdown",
   "metadata": {},
   "source": [
    "##### Data Preparation"
   ]
  },
  {
   "cell_type": "code",
   "execution_count": 2,
   "metadata": {},
   "outputs": [
    {
     "data": {
      "text/plain": [
       "0    165\n",
       "2    158\n",
       "1    145\n",
       "3    144\n",
       "Name: label, dtype: int64"
      ]
     },
     "execution_count": 2,
     "metadata": {},
     "output_type": "execute_result"
    }
   ],
   "source": [
    "# 0  world\n",
    "# 1  sport\n",
    "# 2  business\n",
    "# 3  tech\n",
    "train_data = pd.read_csv(r\"projects\\text-classification\\data\\train.csv\")\n",
    "test_data = pd.read_csv(r\"projects\\text-classification\\data\\test.csv\")\n",
    "\n",
    "test_data.rename(columns={\n",
    "    'Class Index':'label',\n",
    "    'Title':'title',\n",
    "    'Description':'text',\n",
    "}, inplace=True)\n",
    "\n",
    "train_data.rename(columns={\n",
    "    'Class Index':'label',\n",
    "     'Title':'title',\n",
    "      'Description':'text',\n",
    "}, inplace=True)\n",
    "\n",
    "train_data.drop(axis=1, columns='title', inplace=True)\n",
    "test_data.drop(axis=1, columns='title', inplace=True)\n",
    "\n",
    "train_data = train_data.sample(frac=0.0051, random_state=0)\n",
    "test_data = test_data.sample(frac=0.0051, random_state=0)\n",
    "\n",
    "train_data['label'].replace({1:0, 2:1, 3:2, 4: 3}, inplace=True)\n",
    "test_data['label'].replace({1:0, 2:1, 3:2, 4: 3}, inplace=True)\n",
    "\n",
    "x_train = train_data['text'].tolist()\n",
    "y_train = train_data['label'].tolist()\n",
    "\n",
    "x_test = test_data['text'].tolist()\n",
    "y_test = test_data['label'].tolist()\n",
    "\n",
    "train_data['label'].value_counts()"
   ]
  },
  {
   "attachments": {},
   "cell_type": "markdown",
   "metadata": {},
   "source": [
    "##### Data Preprocessing"
   ]
  },
  {
   "cell_type": "code",
   "execution_count": 3,
   "metadata": {},
   "outputs": [
    {
     "name": "stderr",
     "output_type": "stream",
     "text": [
      "Some weights of the model checkpoint at bert-base-uncased were not used when initializing BertForSequenceClassification: ['cls.predictions.transform.dense.bias', 'cls.predictions.decoder.weight', 'cls.predictions.transform.LayerNorm.bias', 'cls.seq_relationship.weight', 'cls.predictions.transform.dense.weight', 'cls.seq_relationship.bias', 'cls.predictions.transform.LayerNorm.weight', 'cls.predictions.bias']\n",
      "- This IS expected if you are initializing BertForSequenceClassification from the checkpoint of a model trained on another task or with another architecture (e.g. initializing a BertForSequenceClassification model from a BertForPreTraining model).\n",
      "- This IS NOT expected if you are initializing BertForSequenceClassification from the checkpoint of a model that you expect to be exactly identical (initializing a BertForSequenceClassification model from a BertForSequenceClassification model).\n",
      "Some weights of BertForSequenceClassification were not initialized from the model checkpoint at bert-base-uncased and are newly initialized: ['classifier.weight', 'classifier.bias']\n",
      "You should probably TRAIN this model on a down-stream task to be able to use it for predictions and inference.\n"
     ]
    }
   ],
   "source": [
    "# Define the model name and number of labels\n",
    "num_labels = 4\n",
    "\n",
    "# Load the pre-trained BERT model\n",
    "model = BertForSequenceClassification.from_pretrained('bert-base-uncased', num_labels=num_labels)\n",
    "model.to(device)\n",
    "\n",
    "# Load tokenizer\n",
    "tokenizer = BertTokenizer.from_pretrained('bert-base-cased')\n",
    "\n",
    "train_encodings = tokenizer(x_train, truncation=True, padding=True, return_tensors='pt')\n",
    "val_encodings = tokenizer(x_test, truncation=True, padding=True)"
   ]
  },
  {
   "cell_type": "code",
   "execution_count": 4,
   "metadata": {},
   "outputs": [
    {
     "data": {
      "text/plain": [
       "'London - British airline magnate Richard Branson announced a plan on Monday for the world #39;s first commercial space flights, saying  quot;thousands quot; of fee-paying astronauts could be sent into orbit in the near future.'"
      ]
     },
     "execution_count": 4,
     "metadata": {},
     "output_type": "execute_result"
    }
   ],
   "source": [
    "## These are the actual sentence not the cleaned sentence\n",
    "x_train[0]"
   ]
  },
  {
   "cell_type": "code",
   "execution_count": 5,
   "metadata": {},
   "outputs": [
    {
     "name": "stdout",
     "output_type": "stream",
     "text": [
      "tensor([  101,  1498,   118,  1418,  8694, 12477, 21772,  2055,   139,  4047,\n",
      "         2142,  1717,   170,  2197,  1113,  6356,  1111,  1103,  1362,   108,\n",
      "         3614,   132,   188,  1148,  2595,  2000,  7306,   117,  2157,   186,\n",
      "        11848,  1204,   132,  4674,   186, 11848,  1204,   132,  1104,  7216,\n",
      "          118,  6573, 27149,  1116,  1180,  1129,  1850,  1154,  8895,  1107,\n",
      "         1103,  1485,  2174,   119,   102,     0,     0,     0,     0,     0,\n",
      "            0,     0,     0,     0,     0,     0,     0,     0,     0,     0,\n",
      "            0,     0,     0,     0,     0,     0,     0,     0,     0,     0,\n",
      "            0,     0,     0,     0,     0,     0,     0,     0,     0,     0,\n",
      "            0,     0,     0,     0,     0,     0,     0,     0,     0,     0,\n",
      "            0,     0,     0,     0,     0,     0,     0,     0,     0,     0,\n",
      "            0,     0,     0,     0,     0,     0,     0,     0,     0,     0,\n",
      "            0,     0,     0,     0,     0,     0,     0,     0,     0,     0,\n",
      "            0,     0,     0,     0,     0,     0,     0,     0,     0,     0,\n",
      "            0,     0,     0,     0,     0,     0,     0,     0,     0,     0,\n",
      "            0,     0,     0,     0,     0,     0,     0,     0,     0,     0,\n",
      "            0,     0,     0,     0,     0,     0,     0,     0,     0,     0,\n",
      "            0,     0,     0,     0,     0,     0,     0,     0,     0,     0,\n",
      "            0,     0,     0,     0,     0,     0,     0,     0,     0,     0,\n",
      "            0,     0,     0,     0,     0,     0,     0,     0,     0,     0,\n",
      "            0,     0,     0,     0,     0,     0,     0,     0])\n"
     ]
    }
   ],
   "source": [
    "print(train_encodings['input_ids'][0])"
   ]
  },
  {
   "cell_type": "code",
   "execution_count": 6,
   "metadata": {},
   "outputs": [
    {
     "name": "stderr",
     "output_type": "stream",
     "text": [
      "C:\\Users\\ichig\\AppData\\Local\\Temp\\ipykernel_26608\\244196605.py:1: UserWarning: To copy construct from a tensor, it is recommended to use sourceTensor.clone().detach() or sourceTensor.clone().detach().requires_grad_(True), rather than torch.tensor(sourceTensor).\n",
      "  train_dataset = TensorDataset(torch.tensor(train_encodings['input_ids']),\n",
      "C:\\Users\\ichig\\AppData\\Local\\Temp\\ipykernel_26608\\244196605.py:2: UserWarning: To copy construct from a tensor, it is recommended to use sourceTensor.clone().detach() or sourceTensor.clone().detach().requires_grad_(True), rather than torch.tensor(sourceTensor).\n",
      "  torch.tensor(train_encodings['attention_mask']),\n",
      "e:\\Space\\Code\\data science\\env\\lib\\site-packages\\transformers\\optimization.py:306: FutureWarning: This implementation of AdamW is deprecated and will be removed in a future version. Use the PyTorch implementation torch.optim.AdamW instead, or set `no_deprecation_warning=True` to disable this warning\n",
      "  warnings.warn(\n"
     ]
    }
   ],
   "source": [
    "train_dataset = TensorDataset(torch.tensor(train_encodings['input_ids']),\n",
    "                              torch.tensor(train_encodings['attention_mask']),\n",
    "                              torch.tensor(y_train))\n",
    "\n",
    "val_dataset = TensorDataset(torch.tensor(val_encodings['input_ids']),\n",
    "                            torch.tensor(val_encodings['attention_mask']),\n",
    "                            torch.tensor(y_test))\n",
    "\n",
    "\n",
    "\n",
    "# Fine-tune the BERT model\n",
    "optimizer = AdamW(model.parameters(), lr=1e-5)\n",
    "train_loader = DataLoader(train_dataset, batch_size=16, shuffle=True)"
   ]
  },
  {
   "attachments": {},
   "cell_type": "markdown",
   "metadata": {},
   "source": [
    "##### Model Training"
   ]
  },
  {
   "cell_type": "code",
   "execution_count": null,
   "metadata": {},
   "outputs": [],
   "source": [
    "for epoch in range(2):\n",
    "    model.train()\n",
    "    for batch in tqdm(train_loader):\n",
    "        optimizer.zero_grad()\n",
    "        input_ids, attention_mask, labels = batch\n",
    "        input_ids, attention_mask, labels = input_ids.to(device), attention_mask.to(device), labels.to(device)\n",
    "        outputs = model(input_ids, attention_mask=attention_mask, labels=labels)\n",
    "        loss = outputs.loss\n",
    "        loss.backward()\n",
    "        optimizer.step()\n",
    "\n",
    "    # Evaluate the model\n",
    "    model.eval()\n",
    "    val_loader = DataLoader(val_dataset, batch_size=16)\n",
    "    val_accuracy = 0\n",
    "    for batch in val_loader:\n",
    "        input_ids, attention_mask, labels = batch\n",
    "        input_ids, attention_mask, labels = input_ids.to(device), attention_mask.to(device), labels.to(device)\n",
    "        with torch.no_grad():\n",
    "            outputs = model(input_ids, attention_mask=attention_mask)\n",
    "            logits = outputs.logits\n",
    "            predictions = torch.argmax(logits, dim=1)\n",
    "            val_accuracy += torch.sum(predictions == labels).item()\n",
    "    val_accuracy /= len(x_test)\n",
    "    print(f'Epoch {epoch + 1} val accuracy: {val_accuracy:.4f}')\n"
   ]
  },
  {
   "attachments": {},
   "cell_type": "markdown",
   "metadata": {},
   "source": [
    "##### Save Tokenizer and Trained model"
   ]
  },
  {
   "cell_type": "code",
   "execution_count": null,
   "metadata": {},
   "outputs": [],
   "source": [
    "model.save_pretrained('bert_classifier')\n",
    "tokenizer.save_pretrained('bert_classifier')\n"
   ]
  },
  {
   "attachments": {},
   "cell_type": "markdown",
   "metadata": {},
   "source": [
    "##### Load Tokenizer and trained Model"
   ]
  },
  {
   "cell_type": "code",
   "execution_count": 3,
   "metadata": {},
   "outputs": [],
   "source": [
    "# Load saved model and tokenizer\n",
    "model = BertForSequenceClassification.from_pretrained(r'E:\\Space\\Code\\data science\\bert_classifier')\n",
    "tokenizer = BertTokenizer.from_pretrained(r'E:\\Space\\Code\\data science\\bert_classifier')\n",
    "    "
   ]
  },
  {
   "attachments": {},
   "cell_type": "markdown",
   "metadata": {},
   "source": [
    "##### Make Prediction using new data"
   ]
  },
  {
   "cell_type": "code",
   "execution_count": null,
   "metadata": {},
   "outputs": [],
   "source": [
    "# Tokenize input text\n",
    "input_text = \"\"\"\n",
    "\n",
    "According to a SamMobile report, Samsung is likely to roll out its purported Android 14-based One UI 6 update to select Galaxy phones including the latest Galaxy S23 series. It will be released for some Galaxy handsets that are 3 years old, as the company promises four years of OS updates for recently launched models. This suggests that the older Galaxy S20 series, S20 FE, Galaxy S10 Lite and a few other phones will not get the next major OS update and will only get the security updates.\n",
    "\n",
    "The Samsung Galaxy S20, Galaxy S20+, Galaxy S20 Ultra, Galaxy S10 Lite, and Galaxy S20 FE will reportedly not get the Android 14 update. Meanwhile, Samsung's foldable handsets that are part of the Galaxy Z series, including the Samsung Galaxy Z Fold 2, and Galaxy Z Flip, will also not receive the update as per the report.\n",
    "\n",
    "\"\"\"\n",
    "input_ids = tokenizer.encode(input_text, truncation=True, padding=True)\n",
    "attention_mask = [int(i != 0) for i in input_ids]\n",
    "\n",
    "# Make a prediction\n",
    "output = model(torch.tensor([input_ids]), attention_mask=torch.tensor([attention_mask]))\n",
    "\n",
    "# Get predicted label\n",
    "predicted_label = torch.argmax(output[0]).item()\n",
    "predicted_label"
   ]
  },
  {
   "attachments": {},
   "cell_type": "markdown",
   "metadata": {},
   "source": [
    "#### ------------------------------------------- END -------------------------------------------"
   ]
  },
  {
   "cell_type": "markdown",
   "metadata": {},
   "source": []
  }
 ],
 "metadata": {
  "kernelspec": {
   "display_name": "env",
   "language": "python",
   "name": "python3"
  },
  "language_info": {
   "codemirror_mode": {
    "name": "ipython",
    "version": 3
   },
   "file_extension": ".py",
   "mimetype": "text/x-python",
   "name": "python",
   "nbconvert_exporter": "python",
   "pygments_lexer": "ipython3",
   "version": "3.10.10"
  },
  "orig_nbformat": 4
 },
 "nbformat": 4,
 "nbformat_minor": 2
}
